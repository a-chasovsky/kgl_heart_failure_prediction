{
 "cells": [
  {
   "cell_type": "markdown",
   "id": "57331478-ce68-4879-a761-03c4fac2e5d0",
   "metadata": {},
   "source": [
    "## Heart Failure Prediction Dataset\n",
    "\n",
    "**Стек:** Python, Pandas, Numpy, Sklearn, Tensorflow, Seaborn\n",
    "\n",
    "#### Краткое описание проекта\n",
    "\n",
    "https://www.kaggle.com/fedesoriano/heart-failure-prediction\n",
    "\n",
    "В датасете представлена информация о пациентах пяти клиник, специализирующихся на сердечно-сосудистых заболеваниях. Необходимо выбрать модель, которая наиболе точно определяет наличие заболевания, используя для этого предоставленные одиннадцать признаков, среди которых пол и возраст пациента, кровяное давление, уровень холестерина, сахара и т.д. \n",
    "\n",
    "#### Исследуемые модели\n",
    "\n",
    "- Linear: Logistic Regression.\n",
    "- CART: Random Forest.\n",
    "- Boosting: LightGBM.\n",
    "\n",
    "Метрика эффективности: максимизация Recall при сохранении Precision на уровне не ниже 75%.\n",
    "\n",
    "#### Некоторые особенности\n",
    "\n",
    "- Категориальные переменные кодируются через Weight of Evidence. <br>\n",
    "- Пропущенные данные и выбросы заполняются методом ближайших соседей (KNN).\n",
    "\n",
    "<img src='img/1.png'> \n",
    "\n",
    "#### Результаты\n",
    "\n",
    "В контексте максимизации Recall наиболее эффективной моделью является нейронная сеть (P: 77%, R: 98%, F1: 86%). <br>\n",
    "Наилучший баланс Precision/Recall обеспечивает Random Forest (P: 93%, R: 94%, F1: 94%).\n",
    "\n",
    "<img src='img/2.png'>"
   ]
  },
  {
   "cell_type": "code",
   "execution_count": null,
   "id": "1bb02937-c7d1-4b70-a36b-4a4cbb233539",
   "metadata": {},
   "outputs": [],
   "source": []
  }
 ],
 "metadata": {
  "kernelspec": {
   "display_name": "Python 3 (ipykernel)",
   "language": "python",
   "name": "python3"
  },
  "language_info": {
   "codemirror_mode": {
    "name": "ipython",
    "version": 3
   },
   "file_extension": ".py",
   "mimetype": "text/x-python",
   "name": "python",
   "nbconvert_exporter": "python",
   "pygments_lexer": "ipython3",
   "version": "3.10.8"
  }
 },
 "nbformat": 4,
 "nbformat_minor": 5
}
